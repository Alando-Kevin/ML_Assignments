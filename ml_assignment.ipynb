{
 "cells": [
  {
   "cell_type": "markdown",
   "metadata": {},
   "source": [
    "# Linear Regression: Question 10; `Part (a)-(g)`"
   ]
  },
  {
   "cell_type": "markdown",
   "metadata": {},
   "source": [
    "**INITIALIZATION**"
   ]
  },
  {
   "cell_type": "code",
   "execution_count": 129,
   "metadata": {},
   "outputs": [
    {
     "name": "stdout",
     "output_type": "stream",
     "text": [
      "(400, 11)\n"
     ]
    },
    {
     "data": {
      "text/html": [
       "<div>\n",
       "<style scoped>\n",
       "    .dataframe tbody tr th:only-of-type {\n",
       "        vertical-align: middle;\n",
       "    }\n",
       "\n",
       "    .dataframe tbody tr th {\n",
       "        vertical-align: top;\n",
       "    }\n",
       "\n",
       "    .dataframe thead th {\n",
       "        text-align: right;\n",
       "    }\n",
       "</style>\n",
       "<table border=\"1\" class=\"dataframe\">\n",
       "  <thead>\n",
       "    <tr style=\"text-align: right;\">\n",
       "      <th></th>\n",
       "      <th>Sales</th>\n",
       "      <th>CompPrice</th>\n",
       "      <th>Income</th>\n",
       "      <th>Advertising</th>\n",
       "      <th>Population</th>\n",
       "      <th>Price</th>\n",
       "      <th>ShelveLoc</th>\n",
       "      <th>Age</th>\n",
       "      <th>Education</th>\n",
       "      <th>Urban</th>\n",
       "      <th>US</th>\n",
       "    </tr>\n",
       "  </thead>\n",
       "  <tbody>\n",
       "    <tr>\n",
       "      <th>0</th>\n",
       "      <td>9.50</td>\n",
       "      <td>138</td>\n",
       "      <td>73</td>\n",
       "      <td>11</td>\n",
       "      <td>276</td>\n",
       "      <td>120</td>\n",
       "      <td>Bad</td>\n",
       "      <td>42</td>\n",
       "      <td>17</td>\n",
       "      <td>Yes</td>\n",
       "      <td>Yes</td>\n",
       "    </tr>\n",
       "    <tr>\n",
       "      <th>1</th>\n",
       "      <td>11.22</td>\n",
       "      <td>111</td>\n",
       "      <td>48</td>\n",
       "      <td>16</td>\n",
       "      <td>260</td>\n",
       "      <td>83</td>\n",
       "      <td>Good</td>\n",
       "      <td>65</td>\n",
       "      <td>10</td>\n",
       "      <td>Yes</td>\n",
       "      <td>Yes</td>\n",
       "    </tr>\n",
       "    <tr>\n",
       "      <th>2</th>\n",
       "      <td>10.06</td>\n",
       "      <td>113</td>\n",
       "      <td>35</td>\n",
       "      <td>10</td>\n",
       "      <td>269</td>\n",
       "      <td>80</td>\n",
       "      <td>Medium</td>\n",
       "      <td>59</td>\n",
       "      <td>12</td>\n",
       "      <td>Yes</td>\n",
       "      <td>Yes</td>\n",
       "    </tr>\n",
       "  </tbody>\n",
       "</table>\n",
       "</div>"
      ],
      "text/plain": [
       "   Sales  CompPrice  Income  Advertising  Population  Price ShelveLoc  Age  \\\n",
       "0   9.50        138      73           11         276    120       Bad   42   \n",
       "1  11.22        111      48           16         260     83      Good   65   \n",
       "2  10.06        113      35           10         269     80    Medium   59   \n",
       "\n",
       "   Education Urban   US  \n",
       "0         17   Yes  Yes  \n",
       "1         10   Yes  Yes  \n",
       "2         12   Yes  Yes  "
      ]
     },
     "execution_count": 129,
     "metadata": {},
     "output_type": "execute_result"
    }
   ],
   "source": [
    "import pandas as pd\n",
    "import numpy as np\n",
    "import statsmodels.api as sm \n",
    "\n",
    "carseats_data = pd.read_csv(r\"C:\\Users\\kevin\\OneDrive\\Desktop\\Strathmore\\Classes\\December 2024\\Machine Learning\\Assignments\\Data\\ALL CSV FILES - 2nd Edition\\Carseats.csv\")\n",
    "\n",
    "print(carseats_data.shape)\n",
    "\n",
    "carseats_data.head(3)\n"
   ]
  },
  {
   "cell_type": "markdown",
   "metadata": {},
   "source": [
    "**(a) Fit a multiple regression model to predict Sales using Price, Urban, and US**\n"
   ]
  },
  {
   "cell_type": "code",
   "execution_count": 130,
   "metadata": {},
   "outputs": [
    {
     "name": "stdout",
     "output_type": "stream",
     "text": [
      "                            OLS Regression Results                            \n",
      "==============================================================================\n",
      "Dep. Variable:                  Sales   R-squared:                       0.239\n",
      "Model:                            OLS   Adj. R-squared:                  0.234\n",
      "Method:                 Least Squares   F-statistic:                     41.52\n",
      "Date:                Sun, 08 Dec 2024   Prob (F-statistic):           2.39e-23\n",
      "Time:                        03:56:32   Log-Likelihood:                -927.66\n",
      "No. Observations:                 400   AIC:                             1863.\n",
      "Df Residuals:                     396   BIC:                             1879.\n",
      "Df Model:                           3                                         \n",
      "Covariance Type:            nonrobust                                         \n",
      "==============================================================================\n",
      "                 coef    std err          t      P>|t|      [0.025      0.975]\n",
      "------------------------------------------------------------------------------\n",
      "const         13.0435      0.651     20.036      0.000      11.764      14.323\n",
      "Price         -0.0545      0.005    -10.389      0.000      -0.065      -0.044\n",
      "Urban_Yes     -0.0219      0.272     -0.081      0.936      -0.556       0.512\n",
      "US_Yes         1.2006      0.259      4.635      0.000       0.691       1.710\n",
      "==============================================================================\n",
      "Omnibus:                        0.676   Durbin-Watson:                   1.912\n",
      "Prob(Omnibus):                  0.713   Jarque-Bera (JB):                0.758\n",
      "Skew:                           0.093   Prob(JB):                        0.684\n",
      "Kurtosis:                       2.897   Cond. No.                         628.\n",
      "==============================================================================\n",
      "\n",
      "Notes:\n",
      "[1] Standard Errors assume that the covariance matrix of the errors is correctly specified.\n"
     ]
    }
   ],
   "source": [
    "# Set X and y\n",
    "X = carseats_data[['Price', 'Urban', 'US']]\n",
    "\n",
    "# Given that `urban` and `US` are categorical data, we transform that to dummy variables\n",
    "X = pd.get_dummies(X, drop_first=True)\n",
    "X = X.astype(int)\n",
    "X = sm.add_constant(X)\n",
    "\n",
    "y = carseats_data['Sales']\n",
    "\n",
    "# Fit model and show summary\n",
    "model = sm.OLS(y, X).fit()\n",
    "print(model.summary())"
   ]
  },
  {
   "cell_type": "markdown",
   "metadata": {},
   "source": [
    "**(b) Provide an interpretation of each coefficient in the model. Be careful some of the variables in the model are qualitative!**\n",
    "\n",
    "   \n",
    "***Intercept:*** *`13.0435`*\n",
    "- Represents the expected average sales when all predictors (Price, Urban_Yes, US_Yes) are zero. Since Price, Urban, and US cannot realistically be zero in this context, the intercept mainly serves as a baseline value for predictions.\n",
    "\n",
    "\n",
    "***Price*** *`-0.0545`*\n",
    "- *Interpretation:* For each unit increase in Price, the average sales decrease by `0.0545` units, holding all other variables constant.\n",
    "- *Significance:* The p-value for Price is `0.000` which is very small, indicating that price is *statistically significant* in explaining variations in sales.\n",
    "\n",
    "***Urban_Yes:*** *`-0.0219`*\n",
    "- *Interpretation:* If the store is located in an urban area (Urban_Yes = 1), the average sales decrease by `0.0219` units compared to stores in non-urban areas (Urban_Yes = 0), holding all other variables constant.\n",
    "- *Significance:* The p-value for Urban_Yes is `0.936`, which is much larger than the typical significance level of 0.05. This indicates that Urban_Yes is *not statistically significant* in predicting sales.\n",
    "\n",
    "***US_Yes:*** *`1.2006`*\n",
    "- *Interpretation:* If the store is located in the US (US_Yes = 1), the average sales increase by `1.2006` units compared to stores located outside the US (US_Yes = 0), holding all other variables constant.\n",
    "- *Significance:* The p-value for US_Yes is `0.000`, indicating that this variable is *highly statistically significant* in explaining variations in sales.\n",
    "\n",
    "***Overall Model Fit:***\n",
    "- The **`R-squared`** value of `0.239` indicates that `23.9%` of the variability in sales is explained by the model. While this suggests that the model has limited explanatory power, the significant predictors (Price and US_Yes) provide meaningful insights."
   ]
  },
  {
   "cell_type": "markdown",
   "metadata": {},
   "source": [
    "**(c) Write out the model in equation form, being careful to handle the qualitative variables properly.**\n",
    "\n",
    "-   *Sales = 13.0435 - 0.545(Price) - 0.0219(Urban_Yes) + 1.2006(US_Yes)*\n"
   ]
  },
  {
   "cell_type": "markdown",
   "metadata": {},
   "source": [
    "**(d) For which of the predictors can you reject the null hypothesis H0 : #j = 0?**\n",
    "- Given the p-value we reject the null hypothesis for *Price* and *Urban* as they are very small"
   ]
  },
  {
   "cell_type": "markdown",
   "metadata": {},
   "source": [
    "**(e) On the basis of your response to the previous question, fit a smaller model that only uses the predictors for which there is**"
   ]
  },
  {
   "cell_type": "code",
   "execution_count": 131,
   "metadata": {},
   "outputs": [
    {
     "name": "stdout",
     "output_type": "stream",
     "text": [
      "                            OLS Regression Results                            \n",
      "==============================================================================\n",
      "Dep. Variable:                  Sales   R-squared:                       0.239\n",
      "Model:                            OLS   Adj. R-squared:                  0.235\n",
      "Method:                 Least Squares   F-statistic:                     62.43\n",
      "Date:                Sun, 08 Dec 2024   Prob (F-statistic):           2.66e-24\n",
      "Time:                        03:56:33   Log-Likelihood:                -927.66\n",
      "No. Observations:                 400   AIC:                             1861.\n",
      "Df Residuals:                     397   BIC:                             1873.\n",
      "Df Model:                           2                                         \n",
      "Covariance Type:            nonrobust                                         \n",
      "==============================================================================\n",
      "                 coef    std err          t      P>|t|      [0.025      0.975]\n",
      "------------------------------------------------------------------------------\n",
      "Intercept     13.0308      0.631     20.652      0.000      11.790      14.271\n",
      "US[T.Yes]      1.1996      0.258      4.641      0.000       0.692       1.708\n",
      "Price         -0.0545      0.005    -10.416      0.000      -0.065      -0.044\n",
      "==============================================================================\n",
      "Omnibus:                        0.666   Durbin-Watson:                   1.912\n",
      "Prob(Omnibus):                  0.717   Jarque-Bera (JB):                0.749\n",
      "Skew:                           0.092   Prob(JB):                        0.688\n",
      "Kurtosis:                       2.895   Cond. No.                         607.\n",
      "==============================================================================\n",
      "\n",
      "Notes:\n",
      "[1] Standard Errors assume that the covariance matrix of the errors is correctly specified.\n"
     ]
    }
   ],
   "source": [
    "# Using statsmodel formula api for this part\n",
    "import statsmodels.formula.api as smf\n",
    "model1 = smf.ols(formula = 'Sales ~ Price + US', data=carseats_data)\n",
    "reg_model = model1.fit()\n",
    "print(reg_model.summary())"
   ]
  },
  {
   "cell_type": "markdown",
   "metadata": {},
   "source": [
    "**(f) How well do the models in (a) and (e) fit the data?**\n",
    "- Looking at the value of R-Squared both (a) and (e) have the same value `0.239`, we can conclude that neither model fit the data very well. However, (e) is a better model compared to (a) as it uses less variables for the same level of R-Squared "
   ]
  },
  {
   "cell_type": "markdown",
   "metadata": {},
   "source": [
    "**(g) Using the model from (e), obtain 95 % confidence intervals for the coefficient(s).**\n",
    "- For a 95% confidence interval, the range is calculated as:\n",
    "    - *Lower Bound: Coefficient - 2 x Standard Error*\n",
    "    - *Upper Bound: Coefficient + 2 x Standard Error*\n"
   ]
  },
  {
   "cell_type": "code",
   "execution_count": 132,
   "metadata": {},
   "outputs": [
    {
     "name": "stdout",
     "output_type": "stream",
     "text": [
      "95% Confidence Intervals:\n",
      "Intercept: [11.7688, 14.2928]\n",
      "US_Yes: [0.6836, 1.7156]\n",
      "Price: [-0.0645, -0.0445]\n"
     ]
    }
   ],
   "source": [
    "#Coefficients and Standard Errors\n",
    "coeff_stder = {\n",
    "    'Intercept': (13.0308, 0.631),\n",
    "    'US_Yes': (1.1996, 0.258),\n",
    "    'Price': (-0.0545, 0.005),\n",
    "}\n",
    "\n",
    "# Calculating confidence intervals\n",
    "def calc_ci(coef, stderr, confidence=0.95):\n",
    "    z_score = 2\n",
    "    lower = coef - z_score * stderr\n",
    "    upper = coef + z_score * stderr\n",
    "    return f\"[{lower:.4f}, {upper:.4f}]\"\n",
    "\n",
    "# Print output\n",
    "print(\"95% Confidence Intervals:\")\n",
    "for term, (coef, stderr) in coeff_stder.items():\n",
    "    interval = calc_ci(coef, stderr)\n",
    "    print(f\"{term}: {interval}\")"
   ]
  },
  {
   "cell_type": "markdown",
   "metadata": {},
   "source": [
    "# Classification: Question 13; `Part (a)-(d)`"
   ]
  },
  {
   "cell_type": "markdown",
   "metadata": {},
   "source": [
    "**INITIALIZATION**"
   ]
  },
  {
   "cell_type": "code",
   "execution_count": 1,
   "metadata": {},
   "outputs": [],
   "source": [
    "from matplotlib.pyplot import subplots\n",
    "from ISLP import load_data\n",
    "from ISLP.models import (ModelSpec as MS,summarize)"
   ]
  },
  {
   "cell_type": "code",
   "execution_count": 2,
   "metadata": {},
   "outputs": [],
   "source": [
    "from ISLP import confusion_table\n",
    "from ISLP.models import contrast\n",
    "from sklearn.model_selection import train_test_split\n",
    "from sklearn.linear_model import LogisticRegression"
   ]
  },
  {
   "cell_type": "code",
   "execution_count": 3,
   "metadata": {},
   "outputs": [
    {
     "data": {
      "text/html": [
       "<div>\n",
       "<style scoped>\n",
       "    .dataframe tbody tr th:only-of-type {\n",
       "        vertical-align: middle;\n",
       "    }\n",
       "\n",
       "    .dataframe tbody tr th {\n",
       "        vertical-align: top;\n",
       "    }\n",
       "\n",
       "    .dataframe thead th {\n",
       "        text-align: right;\n",
       "    }\n",
       "</style>\n",
       "<table border=\"1\" class=\"dataframe\">\n",
       "  <thead>\n",
       "    <tr style=\"text-align: right;\">\n",
       "      <th></th>\n",
       "      <th>Year</th>\n",
       "      <th>Lag1</th>\n",
       "      <th>Lag2</th>\n",
       "      <th>Lag3</th>\n",
       "      <th>Lag4</th>\n",
       "      <th>Lag5</th>\n",
       "      <th>Volume</th>\n",
       "      <th>Today</th>\n",
       "      <th>Direction</th>\n",
       "    </tr>\n",
       "  </thead>\n",
       "  <tbody>\n",
       "    <tr>\n",
       "      <th>0</th>\n",
       "      <td>1990</td>\n",
       "      <td>0.816</td>\n",
       "      <td>1.572</td>\n",
       "      <td>-3.936</td>\n",
       "      <td>-0.229</td>\n",
       "      <td>-3.484</td>\n",
       "      <td>0.154976</td>\n",
       "      <td>-0.270</td>\n",
       "      <td>Down</td>\n",
       "    </tr>\n",
       "    <tr>\n",
       "      <th>1</th>\n",
       "      <td>1990</td>\n",
       "      <td>-0.270</td>\n",
       "      <td>0.816</td>\n",
       "      <td>1.572</td>\n",
       "      <td>-3.936</td>\n",
       "      <td>-0.229</td>\n",
       "      <td>0.148574</td>\n",
       "      <td>-2.576</td>\n",
       "      <td>Down</td>\n",
       "    </tr>\n",
       "    <tr>\n",
       "      <th>2</th>\n",
       "      <td>1990</td>\n",
       "      <td>-2.576</td>\n",
       "      <td>-0.270</td>\n",
       "      <td>0.816</td>\n",
       "      <td>1.572</td>\n",
       "      <td>-3.936</td>\n",
       "      <td>0.159837</td>\n",
       "      <td>3.514</td>\n",
       "      <td>Up</td>\n",
       "    </tr>\n",
       "  </tbody>\n",
       "</table>\n",
       "</div>"
      ],
      "text/plain": [
       "   Year   Lag1   Lag2   Lag3   Lag4   Lag5    Volume  Today Direction\n",
       "0  1990  0.816  1.572 -3.936 -0.229 -3.484  0.154976 -0.270      Down\n",
       "1  1990 -0.270  0.816  1.572 -3.936 -0.229  0.148574 -2.576      Down\n",
       "2  1990 -2.576 -0.270  0.816  1.572 -3.936  0.159837  3.514        Up"
      ]
     },
     "execution_count": 3,
     "metadata": {},
     "output_type": "execute_result"
    }
   ],
   "source": [
    "weekly_data = load_data('Weekly')\n",
    "weekly_data.head(3)"
   ]
  },
  {
   "cell_type": "markdown",
   "metadata": {},
   "source": [
    "**(a) Produce some numerical and graphical summaries of the Weekly data. Do there appear to be any patterns?**\n"
   ]
  },
  {
   "cell_type": "markdown",
   "metadata": {},
   "source": [
    "- ***Numerical Summaries***"
   ]
  },
  {
   "cell_type": "code",
   "execution_count": 4,
   "metadata": {},
   "outputs": [
    {
     "data": {
      "text/plain": [
       "Direction\n",
       "Up      605\n",
       "Down    484\n",
       "Name: count, dtype: int64"
      ]
     },
     "execution_count": 4,
     "metadata": {},
     "output_type": "execute_result"
    }
   ],
   "source": [
    "weekly_data['Direction'].value_counts()"
   ]
  },
  {
   "cell_type": "code",
   "execution_count": 5,
   "metadata": {},
   "outputs": [
    {
     "data": {
      "text/html": [
       "<div>\n",
       "<style scoped>\n",
       "    .dataframe tbody tr th:only-of-type {\n",
       "        vertical-align: middle;\n",
       "    }\n",
       "\n",
       "    .dataframe tbody tr th {\n",
       "        vertical-align: top;\n",
       "    }\n",
       "\n",
       "    .dataframe thead th {\n",
       "        text-align: right;\n",
       "    }\n",
       "</style>\n",
       "<table border=\"1\" class=\"dataframe\">\n",
       "  <thead>\n",
       "    <tr style=\"text-align: right;\">\n",
       "      <th></th>\n",
       "      <th>Year</th>\n",
       "      <th>Lag1</th>\n",
       "      <th>Lag2</th>\n",
       "      <th>Lag3</th>\n",
       "      <th>Lag4</th>\n",
       "      <th>Lag5</th>\n",
       "      <th>Volume</th>\n",
       "      <th>Today</th>\n",
       "    </tr>\n",
       "  </thead>\n",
       "  <tbody>\n",
       "    <tr>\n",
       "      <th>count</th>\n",
       "      <td>1089.000000</td>\n",
       "      <td>1089.000000</td>\n",
       "      <td>1089.000000</td>\n",
       "      <td>1089.000000</td>\n",
       "      <td>1089.000000</td>\n",
       "      <td>1089.000000</td>\n",
       "      <td>1089.000000</td>\n",
       "      <td>1089.000000</td>\n",
       "    </tr>\n",
       "    <tr>\n",
       "      <th>mean</th>\n",
       "      <td>2000.048669</td>\n",
       "      <td>0.150585</td>\n",
       "      <td>0.151079</td>\n",
       "      <td>0.147205</td>\n",
       "      <td>0.145818</td>\n",
       "      <td>0.139893</td>\n",
       "      <td>1.574618</td>\n",
       "      <td>0.149899</td>\n",
       "    </tr>\n",
       "    <tr>\n",
       "      <th>std</th>\n",
       "      <td>6.033182</td>\n",
       "      <td>2.357013</td>\n",
       "      <td>2.357254</td>\n",
       "      <td>2.360502</td>\n",
       "      <td>2.360279</td>\n",
       "      <td>2.361285</td>\n",
       "      <td>1.686636</td>\n",
       "      <td>2.356927</td>\n",
       "    </tr>\n",
       "    <tr>\n",
       "      <th>min</th>\n",
       "      <td>1990.000000</td>\n",
       "      <td>-18.195000</td>\n",
       "      <td>-18.195000</td>\n",
       "      <td>-18.195000</td>\n",
       "      <td>-18.195000</td>\n",
       "      <td>-18.195000</td>\n",
       "      <td>0.087465</td>\n",
       "      <td>-18.195000</td>\n",
       "    </tr>\n",
       "    <tr>\n",
       "      <th>25%</th>\n",
       "      <td>1995.000000</td>\n",
       "      <td>-1.154000</td>\n",
       "      <td>-1.154000</td>\n",
       "      <td>-1.158000</td>\n",
       "      <td>-1.158000</td>\n",
       "      <td>-1.166000</td>\n",
       "      <td>0.332022</td>\n",
       "      <td>-1.154000</td>\n",
       "    </tr>\n",
       "    <tr>\n",
       "      <th>50%</th>\n",
       "      <td>2000.000000</td>\n",
       "      <td>0.241000</td>\n",
       "      <td>0.241000</td>\n",
       "      <td>0.241000</td>\n",
       "      <td>0.238000</td>\n",
       "      <td>0.234000</td>\n",
       "      <td>1.002680</td>\n",
       "      <td>0.241000</td>\n",
       "    </tr>\n",
       "    <tr>\n",
       "      <th>75%</th>\n",
       "      <td>2005.000000</td>\n",
       "      <td>1.405000</td>\n",
       "      <td>1.409000</td>\n",
       "      <td>1.409000</td>\n",
       "      <td>1.409000</td>\n",
       "      <td>1.405000</td>\n",
       "      <td>2.053727</td>\n",
       "      <td>1.405000</td>\n",
       "    </tr>\n",
       "    <tr>\n",
       "      <th>max</th>\n",
       "      <td>2010.000000</td>\n",
       "      <td>12.026000</td>\n",
       "      <td>12.026000</td>\n",
       "      <td>12.026000</td>\n",
       "      <td>12.026000</td>\n",
       "      <td>12.026000</td>\n",
       "      <td>9.328214</td>\n",
       "      <td>12.026000</td>\n",
       "    </tr>\n",
       "  </tbody>\n",
       "</table>\n",
       "</div>"
      ],
      "text/plain": [
       "              Year         Lag1         Lag2         Lag3         Lag4  \\\n",
       "count  1089.000000  1089.000000  1089.000000  1089.000000  1089.000000   \n",
       "mean   2000.048669     0.150585     0.151079     0.147205     0.145818   \n",
       "std       6.033182     2.357013     2.357254     2.360502     2.360279   \n",
       "min    1990.000000   -18.195000   -18.195000   -18.195000   -18.195000   \n",
       "25%    1995.000000    -1.154000    -1.154000    -1.158000    -1.158000   \n",
       "50%    2000.000000     0.241000     0.241000     0.241000     0.238000   \n",
       "75%    2005.000000     1.405000     1.409000     1.409000     1.409000   \n",
       "max    2010.000000    12.026000    12.026000    12.026000    12.026000   \n",
       "\n",
       "              Lag5       Volume        Today  \n",
       "count  1089.000000  1089.000000  1089.000000  \n",
       "mean      0.139893     1.574618     0.149899  \n",
       "std       2.361285     1.686636     2.356927  \n",
       "min     -18.195000     0.087465   -18.195000  \n",
       "25%      -1.166000     0.332022    -1.154000  \n",
       "50%       0.234000     1.002680     0.241000  \n",
       "75%       1.405000     2.053727     1.405000  \n",
       "max      12.026000     9.328214    12.026000  "
      ]
     },
     "execution_count": 5,
     "metadata": {},
     "output_type": "execute_result"
    }
   ],
   "source": [
    "weekly_data.describe()"
   ]
  },
  {
   "cell_type": "code",
   "execution_count": 6,
   "metadata": {},
   "outputs": [
    {
     "data": {
      "text/html": [
       "<div>\n",
       "<style scoped>\n",
       "    .dataframe tbody tr th:only-of-type {\n",
       "        vertical-align: middle;\n",
       "    }\n",
       "\n",
       "    .dataframe tbody tr th {\n",
       "        vertical-align: top;\n",
       "    }\n",
       "\n",
       "    .dataframe thead th {\n",
       "        text-align: right;\n",
       "    }\n",
       "</style>\n",
       "<table border=\"1\" class=\"dataframe\">\n",
       "  <thead>\n",
       "    <tr style=\"text-align: right;\">\n",
       "      <th></th>\n",
       "      <th>Year</th>\n",
       "      <th>Lag1</th>\n",
       "      <th>Lag2</th>\n",
       "      <th>Lag3</th>\n",
       "      <th>Lag4</th>\n",
       "      <th>Lag5</th>\n",
       "      <th>Volume</th>\n",
       "      <th>Today</th>\n",
       "    </tr>\n",
       "  </thead>\n",
       "  <tbody>\n",
       "    <tr>\n",
       "      <th>Year</th>\n",
       "      <td>1.000000</td>\n",
       "      <td>-0.032289</td>\n",
       "      <td>-0.033390</td>\n",
       "      <td>-0.030006</td>\n",
       "      <td>-0.031128</td>\n",
       "      <td>-0.030519</td>\n",
       "      <td>0.841942</td>\n",
       "      <td>-0.032460</td>\n",
       "    </tr>\n",
       "    <tr>\n",
       "      <th>Lag1</th>\n",
       "      <td>-0.032289</td>\n",
       "      <td>1.000000</td>\n",
       "      <td>-0.074853</td>\n",
       "      <td>0.058636</td>\n",
       "      <td>-0.071274</td>\n",
       "      <td>-0.008183</td>\n",
       "      <td>-0.064951</td>\n",
       "      <td>-0.075032</td>\n",
       "    </tr>\n",
       "    <tr>\n",
       "      <th>Lag2</th>\n",
       "      <td>-0.033390</td>\n",
       "      <td>-0.074853</td>\n",
       "      <td>1.000000</td>\n",
       "      <td>-0.075721</td>\n",
       "      <td>0.058382</td>\n",
       "      <td>-0.072499</td>\n",
       "      <td>-0.085513</td>\n",
       "      <td>0.059167</td>\n",
       "    </tr>\n",
       "    <tr>\n",
       "      <th>Lag3</th>\n",
       "      <td>-0.030006</td>\n",
       "      <td>0.058636</td>\n",
       "      <td>-0.075721</td>\n",
       "      <td>1.000000</td>\n",
       "      <td>-0.075396</td>\n",
       "      <td>0.060657</td>\n",
       "      <td>-0.069288</td>\n",
       "      <td>-0.071244</td>\n",
       "    </tr>\n",
       "    <tr>\n",
       "      <th>Lag4</th>\n",
       "      <td>-0.031128</td>\n",
       "      <td>-0.071274</td>\n",
       "      <td>0.058382</td>\n",
       "      <td>-0.075396</td>\n",
       "      <td>1.000000</td>\n",
       "      <td>-0.075675</td>\n",
       "      <td>-0.061075</td>\n",
       "      <td>-0.007826</td>\n",
       "    </tr>\n",
       "    <tr>\n",
       "      <th>Lag5</th>\n",
       "      <td>-0.030519</td>\n",
       "      <td>-0.008183</td>\n",
       "      <td>-0.072499</td>\n",
       "      <td>0.060657</td>\n",
       "      <td>-0.075675</td>\n",
       "      <td>1.000000</td>\n",
       "      <td>-0.058517</td>\n",
       "      <td>0.011013</td>\n",
       "    </tr>\n",
       "    <tr>\n",
       "      <th>Volume</th>\n",
       "      <td>0.841942</td>\n",
       "      <td>-0.064951</td>\n",
       "      <td>-0.085513</td>\n",
       "      <td>-0.069288</td>\n",
       "      <td>-0.061075</td>\n",
       "      <td>-0.058517</td>\n",
       "      <td>1.000000</td>\n",
       "      <td>-0.033078</td>\n",
       "    </tr>\n",
       "    <tr>\n",
       "      <th>Today</th>\n",
       "      <td>-0.032460</td>\n",
       "      <td>-0.075032</td>\n",
       "      <td>0.059167</td>\n",
       "      <td>-0.071244</td>\n",
       "      <td>-0.007826</td>\n",
       "      <td>0.011013</td>\n",
       "      <td>-0.033078</td>\n",
       "      <td>1.000000</td>\n",
       "    </tr>\n",
       "  </tbody>\n",
       "</table>\n",
       "</div>"
      ],
      "text/plain": [
       "            Year      Lag1      Lag2      Lag3      Lag4      Lag5    Volume  \\\n",
       "Year    1.000000 -0.032289 -0.033390 -0.030006 -0.031128 -0.030519  0.841942   \n",
       "Lag1   -0.032289  1.000000 -0.074853  0.058636 -0.071274 -0.008183 -0.064951   \n",
       "Lag2   -0.033390 -0.074853  1.000000 -0.075721  0.058382 -0.072499 -0.085513   \n",
       "Lag3   -0.030006  0.058636 -0.075721  1.000000 -0.075396  0.060657 -0.069288   \n",
       "Lag4   -0.031128 -0.071274  0.058382 -0.075396  1.000000 -0.075675 -0.061075   \n",
       "Lag5   -0.030519 -0.008183 -0.072499  0.060657 -0.075675  1.000000 -0.058517   \n",
       "Volume  0.841942 -0.064951 -0.085513 -0.069288 -0.061075 -0.058517  1.000000   \n",
       "Today  -0.032460 -0.075032  0.059167 -0.071244 -0.007826  0.011013 -0.033078   \n",
       "\n",
       "           Today  \n",
       "Year   -0.032460  \n",
       "Lag1   -0.075032  \n",
       "Lag2    0.059167  \n",
       "Lag3   -0.071244  \n",
       "Lag4   -0.007826  \n",
       "Lag5    0.011013  \n",
       "Volume -0.033078  \n",
       "Today   1.000000  "
      ]
     },
     "execution_count": 6,
     "metadata": {},
     "output_type": "execute_result"
    }
   ],
   "source": [
    "numeric_data = weekly_data.select_dtypes(include=[\"number\"])\n",
    "correlation_matrix = numeric_data.corr()\n",
    "correlation_matrix\n"
   ]
  },
  {
   "cell_type": "markdown",
   "metadata": {},
   "source": [
    "- ***Graphical Summaries***"
   ]
  },
  {
   "cell_type": "code",
   "execution_count": 7,
   "metadata": {},
   "outputs": [
    {
     "ename": "NameError",
     "evalue": "name 'sns' is not defined",
     "output_type": "error",
     "traceback": [
      "\u001b[1;31m---------------------------------------------------------------------------\u001b[0m",
      "\u001b[1;31mNameError\u001b[0m                                 Traceback (most recent call last)",
      "Cell \u001b[1;32mIn[7], line 2\u001b[0m\n\u001b[0;32m      1\u001b[0m \u001b[38;5;66;03m# Pairplot to visualize relationships\u001b[39;00m\n\u001b[1;32m----> 2\u001b[0m \u001b[43msns\u001b[49m\u001b[38;5;241m.\u001b[39mpairplot(weekly_data, hue\u001b[38;5;241m=\u001b[39m\u001b[38;5;124m\"\u001b[39m\u001b[38;5;124mDirection\u001b[39m\u001b[38;5;124m\"\u001b[39m)\n\u001b[0;32m      3\u001b[0m plt\u001b[38;5;241m.\u001b[39mshow()\n",
      "\u001b[1;31mNameError\u001b[0m: name 'sns' is not defined"
     ]
    }
   ],
   "source": [
    "# Pairplot to visualize relationships\n",
    "sns.pairplot(weekly_data, hue=\"Direction\")\n",
    "plt.show()"
   ]
  },
  {
   "cell_type": "code",
   "execution_count": null,
   "metadata": {},
   "outputs": [
    {
     "data": {
      "image/png": "[encoded data removed]",
      "text/plain": [
       "<Figure size 640x480 with 1 Axes>"
      ]
     },
     "metadata": {},
     "output_type": "display_data"
    }
   ],
   "source": [
    "# Histogram for Volume\n",
    "weekly_data['Volume'].hist(bins=20, edgecolor='black')\n",
    "plt.title('Histogram of Volume')\n",
    "plt.xlabel('Volume')\n",
    "plt.ylabel('Frequency')\n",
    "plt.show()"
   ]
  },
  {
   "cell_type": "code",
   "execution_count": null,
   "metadata": {},
   "outputs": [
    {
     "data": {
      "image/png": "[encoded data removed]",
      "text/plain": [
       "<Figure size 640x480 with 1 Axes>"
      ]
     },
     "metadata": {},
     "output_type": "display_data"
    }
   ],
   "source": [
    "sns.boxplot(x=\"Direction\", y=\"Volume\", data=weekly_data)\n",
    "plt.title('Boxplot of Volume by Direction')\n",
    "plt.show()"
   ]
  },
  {
   "cell_type": "markdown",
   "metadata": {},
   "source": [
    "**Observations**\n",
    "- From the histogram, Volume is positively skewed, with most values concentrated near zero and fewer larger values. This indicates that trading volumes are typically low but occasionally spike.\n",
    "- The means and medians of Lag variables are close to zero, indicating they are centered around the mean with a relatively symmetrical distribution.\n",
    "- The standard deviations for Lag variables are similar, suggesting comparable levels of variability.\n",
    "- The Today variable, like the Lag variables, has a mean close to zero, suggesting that daily changes in returns tend to be small.\n",
    "- There are slightly more Up days (605) than Down days (484).\n",
    "- Volume has a relatively high positive correlation with Year (0.841), suggesting that trading volume has increased over time.\n",
    "- Other correlations with Volume are small, indicating weak relationships with other variables.\n",
    "- The scatterplots suggest no obvious separation of Up and Down directions based on the Lag variables. This indicates that these variables alone may not be strong predictors of market direction.\n",
    "\n",
    "**Conclusion**\n",
    "- The dataset shows clear trends in trading volume over time but weak relationships between lagged variables and daily returns (Today) or direction (Up/Down)."
   ]
  },
  {
   "cell_type": "markdown",
   "metadata": {},
   "source": [
    "**(b) Use the full data set to perform a logistic regression with Direction as the response and the five lag variables plus Volume as predictors.**\n",
    "- Use the summary function to print the results. \n",
    "- Do any of the predictors appear to be statistically significant? If so, which ones?"
   ]
  },
  {
   "cell_type": "code",
   "execution_count": null,
   "metadata": {},
   "outputs": [
    {
     "name": "stdout",
     "output_type": "stream",
     "text": [
      "Optimization terminated successfully.\n",
      "         Current function value: 0.682441\n",
      "         Iterations 4\n",
      "                           Logit Regression Results                           \n",
      "==============================================================================\n",
      "Dep. Variable:            Dir_numeric   No. Observations:                 1089\n",
      "Model:                          Logit   Df Residuals:                     1082\n",
      "Method:                           MLE   Df Model:                            6\n",
      "Date:                Sun, 08 Dec 2024   Pseudo R-squ.:                0.006580\n",
      "Time:                        03:56:43   Log-Likelihood:                -743.18\n",
      "converged:                       True   LL-Null:                       -748.10\n",
      "Covariance Type:            nonrobust   LLR p-value:                    0.1313\n",
      "==============================================================================\n",
      "                 coef    std err          z      P>|z|      [0.025      0.975]\n",
      "------------------------------------------------------------------------------\n",
      "const          0.2669      0.086      3.106      0.002       0.098       0.435\n",
      "Lag1          -0.0413      0.026     -1.563      0.118      -0.093       0.010\n",
      "Lag2           0.0584      0.027      2.175      0.030       0.006       0.111\n",
      "Lag3          -0.0161      0.027     -0.602      0.547      -0.068       0.036\n",
      "Lag4          -0.0278      0.026     -1.050      0.294      -0.080       0.024\n",
      "Lag5          -0.0145      0.026     -0.549      0.583      -0.066       0.037\n",
      "Volume        -0.0227      0.037     -0.616      0.538      -0.095       0.050\n",
      "==============================================================================\n"
     ]
    }
   ],
   "source": [
    "# Convert the response variable (Direction) to numeric\n",
    "weekly_data['Dir_numeric'] = weekly_data['Direction'].map({'Up': 1, 'Down': 0})\n",
    "\n",
    "# Define predictors and response\n",
    "X = weekly_data[['Lag1', 'Lag2', 'Lag3', 'Lag4', 'Lag5', 'Volume']]\n",
    "y = weekly_data['Dir_numeric']\n",
    "X = sm.add_constant(X)\n",
    "\n",
    "# Fit the logistic regression model and print result\n",
    "logit_model = sm.Logit(y, X).fit()\n",
    "print(logit_model.summary())"
   ]
  },
  {
   "cell_type": "markdown",
   "metadata": {},
   "source": [
    "***Significant Predictors***\n",
    "- *Constant:* The intercept is statistically significant `p-value = 0.002`. Its positive coefficient `0.2669` suggests a higher baseline likelihood of *Direction = Up.*\n",
    "- *Lag2:* is statistically significant `p-value = 0.030`. Its positive coefficient `0.0584` indicates that higher values of Lag2 increase the likelihood of *Direction = Up.*\n",
    "- *Other predictors* do not show strong evidence of association with Direction at the 5% significance level"
   ]
  },
  {
   "cell_type": "markdown",
   "metadata": {},
   "source": [
    "**(c) Compute the confusion matrix and overall fraction of correct predictions. Explain what the confusion matrix is telling you about the types of mistakes made by logistic regression.**\n"
   ]
  },
  {
   "cell_type": "code",
   "execution_count": null,
   "metadata": {},
   "outputs": [
    {
     "name": "stdout",
     "output_type": "stream",
     "text": [
      "Confusion Table:\n",
      "Truth       0    1\n",
      "Predicted         \n",
      "0          54  430\n",
      "1          48  557\n"
     ]
    }
   ],
   "source": [
    "# Predict probabilities and convert to binary predictions (threshold = 0.5)\n",
    "predicted_probs = logit_model.predict(X)\n",
    "predicted_classes = (predicted_probs > 0.5).astype(int)\n",
    "\n",
    "# Compute and Display the confusion table\n",
    "conf_matrix = confusion_table(y, predicted_classes)\n",
    "print(\"Confusion Table:\")\n",
    "print(conf_matrix)"
   ]
  },
  {
   "cell_type": "code",
   "execution_count": null,
   "metadata": {},
   "outputs": [
    {
     "name": "stdout",
     "output_type": "stream",
     "text": [
      "\n",
      "Overall Accuracy: 0.5611\n"
     ]
    }
   ],
   "source": [
    "# Extract confusion matrix values\n",
    "true_negatives = conf_matrix.loc[0, 0]\n",
    "false_positives = conf_matrix.loc[0, 1]\n",
    "false_negatives = conf_matrix.loc[1, 0]\n",
    "true_positives = conf_matrix.loc[1, 1]\n",
    "\n",
    "# Compute and Print overall accuracy\n",
    "accuracy = (true_negatives + true_positives) / conf_matrix.values.sum()\n",
    "print(f\"\\nOverall Accuracy: {accuracy:.4f}\")"
   ]
  },
  {
   "cell_type": "markdown",
   "metadata": {},
   "source": [
    "**Components of the Confusion Matrix:**\n",
    "- *True Negatives:* `54`: The model correctly predicted \"Down\" (0) when the actual value was \"Down\".\n",
    "- *False Positives:* `430`: The model incorrectly predicted \"Up\" (1) when the actual value was \"Down\".\n",
    "- *False Negatives:* `48`: The model incorrectly predicted \"Down\" (0) when the actual value was \"Up\".\n",
    "- *True Positives:* `557`: The model correctly predicted \"Up\" (1) when the actual value was \"Up\".\n",
    "\n",
    "    ***Overal Accuracy:*** `0.5611` means the model correctly predicts the direction 56.11% of the time, which is just slightly better than random guessing (50%)."
   ]
  },
  {
   "cell_type": "markdown",
   "metadata": {},
   "source": [
    "**(d) Now fit the logistic regression model using a training data period from 1990 to 2008, with Lag2 as the only predictor.**\n",
    "- Compute the confusion matrix and the overall fraction of correct predictions for the held out data (that is, the data from 2009 and 2010)."
   ]
  },
  {
   "cell_type": "code",
   "execution_count": null,
   "metadata": {},
   "outputs": [
    {
     "name": "stdout",
     "output_type": "stream",
     "text": [
      "Optimization terminated successfully.\n",
      "         Current function value: 0.685555\n",
      "         Iterations 4\n",
      "                           Logit Regression Results                           \n",
      "==============================================================================\n",
      "Dep. Variable:            Dir_numeric   No. Observations:                  985\n",
      "Model:                          Logit   Df Residuals:                      983\n",
      "Method:                           MLE   Df Model:                            1\n",
      "Date:                Sun, 08 Dec 2024   Pseudo R-squ.:                0.003076\n",
      "Time:                        03:56:43   Log-Likelihood:                -675.27\n",
      "converged:                       True   LL-Null:                       -677.35\n",
      "Covariance Type:            nonrobust   LLR p-value:                   0.04123\n",
      "==============================================================================\n",
      "                 coef    std err          z      P>|z|      [0.025      0.975]\n",
      "------------------------------------------------------------------------------\n",
      "const          0.2033      0.064      3.162      0.002       0.077       0.329\n",
      "Lag2           0.0581      0.029      2.024      0.043       0.002       0.114\n",
      "==============================================================================\n"
     ]
    }
   ],
   "source": [
    "# Split the data into training (1990–2008) and testing (2009–2010) sets\n",
    "train_data = weekly_data[weekly_data['Year'] <= 2008]\n",
    "test_data = weekly_data[weekly_data['Year'] > 2008]\n",
    "\n",
    "# Define predictors and response variable\n",
    "X_train = train_data[['Lag2']]\n",
    "y_train = train_data['Dir_numeric']\n",
    "\n",
    "X_test = test_data[['Lag2']]\n",
    "y_test = test_data['Dir_numeric']\n",
    "\n",
    "X_train = sm.add_constant(X_train)\n",
    "X_test = sm.add_constant(X_test)\n",
    "\n",
    "# Fit the logistic regression model and print; training data\n",
    "logit_model = sm.Logit(y_train, X_train).fit()\n",
    "print(logit_model.summary())"
   ]
  },
  {
   "cell_type": "code",
   "execution_count": null,
   "metadata": {},
   "outputs": [
    {
     "name": "stdout",
     "output_type": "stream",
     "text": [
      "\n",
      "Confusion Matrix (Test Data):\n",
      "Truth      0   1\n",
      "Predicted       \n",
      "0          9  34\n",
      "1          5  56\n",
      "\n",
      "Overall Accuracy: 0.6250\n"
     ]
    }
   ],
   "source": [
    "# Predict probabilities on the test set\n",
    "predicted_probs = logit_model.predict(X_test)\n",
    "\n",
    "# Convert probabilities to binary predictions (threshold = 0.5)\n",
    "predicted_classes = (predicted_probs > 0.5).astype(int)\n",
    "\n",
    "# Compute the confusion matrix for the test data\n",
    "conf_matrix = confusion_table(y_test, predicted_classes)\n",
    "\n",
    "# Display the confusion matrix\n",
    "print(\"\\nConfusion Matrix (Test Data):\")\n",
    "print(conf_matrix)\n",
    "\n",
    "# Compute and display overall accuracy\n",
    "true_negatives = conf_matrix.loc[0, 0]\n",
    "false_positives = conf_matrix.loc[0, 1]\n",
    "false_negatives = conf_matrix.loc[1, 0]\n",
    "true_positives = conf_matrix.loc[1, 1]\n",
    "\n",
    "accuracy = (true_negatives + true_positives) / conf_matrix.values.sum()\n",
    "print(f\"\\nOverall Accuracy: {accuracy:.4f}\")"
   ]
  },
  {
   "cell_type": "markdown",
   "metadata": {},
   "source": [
    "# Problem Set 2: Decision Trees\n",
    "The data (Insurance.csv) contains 5822 real customer records. Each record consists of 86 variables, containing sociodemographic data (variables 1-43) and product ownership (variables 44-86). The sociodemographic data is derived from zip codes. All customers living in areas with the same zip code have the same sociodemographic attributes. Variable 86 (Purchase) indicates whether the customer purchased a caravan insurance policy."
   ]
  },
  {
   "cell_type": "markdown",
   "metadata": {},
   "source": [
    "**Question 1**\n",
    "\n",
    "***(a) Use the data to build a decision tress with the following hyper parameters(criteria=gini, max_depth =4, min_samples_split=1000, min_samples_leaf=200).***\n",
    "  - Identify the feature that has the greatest influence on loan status."
   ]
  },
  {
   "cell_type": "code",
   "execution_count": 147,
   "metadata": {},
   "outputs": [
    {
     "data": {
      "text/html": [
       "<div>\n",
       "<style scoped>\n",
       "    .dataframe tbody tr th:only-of-type {\n",
       "        vertical-align: middle;\n",
       "    }\n",
       "\n",
       "    .dataframe tbody tr th {\n",
       "        vertical-align: top;\n",
       "    }\n",
       "\n",
       "    .dataframe thead th {\n",
       "        text-align: right;\n",
       "    }\n",
       "</style>\n",
       "<table border=\"1\" class=\"dataframe\">\n",
       "  <thead>\n",
       "    <tr style=\"text-align: right;\">\n",
       "      <th></th>\n",
       "      <th>MOSTYPE</th>\n",
       "      <th>MAANTHUI</th>\n",
       "      <th>MGEMOMV</th>\n",
       "      <th>MGEMLEEF</th>\n",
       "      <th>MOSHOOFD</th>\n",
       "      <th>MGODRK</th>\n",
       "      <th>MGODPR</th>\n",
       "      <th>MGODOV</th>\n",
       "      <th>MGODGE</th>\n",
       "      <th>MRELGE</th>\n",
       "      <th>...</th>\n",
       "      <th>APERSONG</th>\n",
       "      <th>AGEZONG</th>\n",
       "      <th>AWAOREG</th>\n",
       "      <th>ABRAND</th>\n",
       "      <th>AZEILPL</th>\n",
       "      <th>APLEZIER</th>\n",
       "      <th>AFIETS</th>\n",
       "      <th>AINBOED</th>\n",
       "      <th>ABYSTAND</th>\n",
       "      <th>Purchase</th>\n",
       "    </tr>\n",
       "  </thead>\n",
       "  <tbody>\n",
       "    <tr>\n",
       "      <th>0</th>\n",
       "      <td>33</td>\n",
       "      <td>1</td>\n",
       "      <td>3</td>\n",
       "      <td>2</td>\n",
       "      <td>8</td>\n",
       "      <td>0</td>\n",
       "      <td>5</td>\n",
       "      <td>1</td>\n",
       "      <td>3</td>\n",
       "      <td>7</td>\n",
       "      <td>...</td>\n",
       "      <td>0</td>\n",
       "      <td>0</td>\n",
       "      <td>0</td>\n",
       "      <td>1</td>\n",
       "      <td>0</td>\n",
       "      <td>0</td>\n",
       "      <td>0</td>\n",
       "      <td>0</td>\n",
       "      <td>0</td>\n",
       "      <td>No</td>\n",
       "    </tr>\n",
       "    <tr>\n",
       "      <th>1</th>\n",
       "      <td>37</td>\n",
       "      <td>1</td>\n",
       "      <td>2</td>\n",
       "      <td>2</td>\n",
       "      <td>8</td>\n",
       "      <td>1</td>\n",
       "      <td>4</td>\n",
       "      <td>1</td>\n",
       "      <td>4</td>\n",
       "      <td>6</td>\n",
       "      <td>...</td>\n",
       "      <td>0</td>\n",
       "      <td>0</td>\n",
       "      <td>0</td>\n",
       "      <td>1</td>\n",
       "      <td>0</td>\n",
       "      <td>0</td>\n",
       "      <td>0</td>\n",
       "      <td>0</td>\n",
       "      <td>0</td>\n",
       "      <td>No</td>\n",
       "    </tr>\n",
       "    <tr>\n",
       "      <th>2</th>\n",
       "      <td>37</td>\n",
       "      <td>1</td>\n",
       "      <td>2</td>\n",
       "      <td>2</td>\n",
       "      <td>8</td>\n",
       "      <td>0</td>\n",
       "      <td>4</td>\n",
       "      <td>2</td>\n",
       "      <td>4</td>\n",
       "      <td>3</td>\n",
       "      <td>...</td>\n",
       "      <td>0</td>\n",
       "      <td>0</td>\n",
       "      <td>0</td>\n",
       "      <td>1</td>\n",
       "      <td>0</td>\n",
       "      <td>0</td>\n",
       "      <td>0</td>\n",
       "      <td>0</td>\n",
       "      <td>0</td>\n",
       "      <td>No</td>\n",
       "    </tr>\n",
       "  </tbody>\n",
       "</table>\n",
       "<p>3 rows × 86 columns</p>\n",
       "</div>"
      ],
      "text/plain": [
       "   MOSTYPE  MAANTHUI  MGEMOMV  MGEMLEEF  MOSHOOFD  MGODRK  MGODPR  MGODOV  \\\n",
       "0       33         1        3         2         8       0       5       1   \n",
       "1       37         1        2         2         8       1       4       1   \n",
       "2       37         1        2         2         8       0       4       2   \n",
       "\n",
       "   MGODGE  MRELGE  ...  APERSONG  AGEZONG  AWAOREG  ABRAND  AZEILPL  APLEZIER  \\\n",
       "0       3       7  ...         0        0        0       1        0         0   \n",
       "1       4       6  ...         0        0        0       1        0         0   \n",
       "2       4       3  ...         0        0        0       1        0         0   \n",
       "\n",
       "   AFIETS  AINBOED  ABYSTAND  Purchase  \n",
       "0       0        0         0        No  \n",
       "1       0        0         0        No  \n",
       "2       0        0         0        No  \n",
       "\n",
       "[3 rows x 86 columns]"
      ]
     },
     "execution_count": 147,
     "metadata": {},
     "output_type": "execute_result"
    }
   ],
   "source": [
    "from sklearn.tree import DecisionTreeClassifier\n",
    "from sklearn.tree import export_text\n",
    "\n",
    "insurance_data = pd.read_csv(r\"C:\\Users\\kevin\\OneDrive\\Desktop\\Strathmore\\Classes\\December 2024\\Machine Learning\\Notes\\5.3 Insurance.csv\")\n",
    "insurance_data.head(3)"
   ]
  },
  {
   "cell_type": "code",
   "execution_count": 148,
   "metadata": {},
   "outputs": [
    {
     "data": {
      "text/plain": [
       "Index(['MOSTYPE', 'MAANTHUI', 'MGEMOMV', 'MGEMLEEF', 'MOSHOOFD', 'MGODRK',\n",
       "       'MGODPR', 'MGODOV', 'MGODGE', 'MRELGE', 'MRELSA', 'MRELOV', 'MFALLEEN',\n",
       "       'MFGEKIND', 'MFWEKIND', 'MOPLHOOG', 'MOPLMIDD', 'MOPLLAAG', 'MBERHOOG',\n",
       "       'MBERZELF', 'MBERBOER', 'MBERMIDD', 'MBERARBG', 'MBERARBO', 'MSKA',\n",
       "       'MSKB1', 'MSKB2', 'MSKC', 'MSKD', 'MHHUUR', 'MHKOOP', 'MAUT1', 'MAUT2',\n",
       "       'MAUT0', 'MZFONDS', 'MZPART', 'MINKM30', 'MINK3045', 'MINK4575',\n",
       "       'MINK7512', 'MINK123M', 'MINKGEM', 'MKOOPKLA', 'PWAPART', 'PWABEDR',\n",
       "       'PWALAND', 'PPERSAUT', 'PBESAUT', 'PMOTSCO', 'PVRAAUT', 'PAANHANG',\n",
       "       'PTRACTOR', 'PWERKT', 'PBROM', 'PLEVEN', 'PPERSONG', 'PGEZONG',\n",
       "       'PWAOREG', 'PBRAND', 'PZEILPL', 'PPLEZIER', 'PFIETS', 'PINBOED',\n",
       "       'PBYSTAND', 'AWAPART', 'AWABEDR', 'AWALAND', 'APERSAUT', 'ABESAUT',\n",
       "       'AMOTSCO', 'AVRAAUT', 'AAANHANG', 'ATRACTOR', 'AWERKT', 'ABROM',\n",
       "       'ALEVEN', 'APERSONG', 'AGEZONG', 'AWAOREG', 'ABRAND', 'AZEILPL',\n",
       "       'APLEZIER', 'AFIETS', 'AINBOED', 'ABYSTAND', 'Purchase'],\n",
       "      dtype='object')"
      ]
     },
     "execution_count": 148,
     "metadata": {},
     "output_type": "execute_result"
    }
   ],
   "source": [
    "insurance_data.columns"
   ]
  },
  {
   "cell_type": "code",
   "execution_count": 149,
   "metadata": {},
   "outputs": [
    {
     "name": "stdout",
     "output_type": "stream",
     "text": [
      "Feature Importances:\n",
      "     Feature  Importance\n",
      "46  PPERSAUT    0.568976\n",
      "0    MOSTYPE    0.268783\n",
      "58    PBRAND    0.108343\n",
      "36   MINKM30    0.031323\n",
      "8     MGODGE    0.016664\n",
      "..       ...         ...\n",
      "80   AZEILPL    0.000000\n",
      "81  APLEZIER    0.000000\n",
      "82    AFIETS    0.000000\n",
      "83   AINBOED    0.000000\n",
      "84  ABYSTAND    0.000000\n",
      "\n",
      "[85 rows x 2 columns]\n"
     ]
    }
   ],
   "source": [
    "# Define the features and target variable\n",
    "X = insurance_data.iloc[:, :-1]  # All columns except the last\n",
    "y = insurance_data.iloc[:, -1]  # Last column (target: Purchase)\n",
    "\n",
    "# Initialize the Decision Tree Classifier with specified hyperparameters and Fit model\n",
    "tree_model = DecisionTreeClassifier(\n",
    "    criterion='gini', \n",
    "    max_depth=4, \n",
    "    min_samples_split=1000, \n",
    "    min_samples_leaf=200, \n",
    "    random_state=42\n",
    ")\n",
    "\n",
    "tree_model.fit(X, y)\n",
    "# Display the feature importances\n",
    "feature_importances = pd.DataFrame({\n",
    "    'Feature': X.columns,\n",
    "    'Importance': tree_model.feature_importances_\n",
    "}).sort_values(by='Importance', ascending=False)\n",
    "\n",
    "print(\"Feature Importances:\")\n",
    "print(feature_importances)"
   ]
  },
  {
   "cell_type": "code",
   "execution_count": 150,
   "metadata": {},
   "outputs": [
    {
     "name": "stdout",
     "output_type": "stream",
     "text": [
      "\n",
      "The feature with the greatest influence on loan status is: PPERSAUT\n",
      "\n",
      "Decision Tree Rules:\n",
      "|--- PPERSAUT <= 5.50\n",
      "|   |--- MINKM30 <= 2.50\n",
      "|   |   |--- MGODGE <= 3.50\n",
      "|   |   |   |--- class: No\n",
      "|   |   |--- MGODGE >  3.50\n",
      "|   |   |   |--- class: No\n",
      "|   |--- MINKM30 >  2.50\n",
      "|   |   |--- MBERARBG <= 1.50\n",
      "|   |   |   |--- class: No\n",
      "|   |   |--- MBERARBG >  1.50\n",
      "|   |   |   |--- MOSTYPE <= 30.50\n",
      "|   |   |   |   |--- class: No\n",
      "|   |   |   |--- MOSTYPE >  30.50\n",
      "|   |   |   |   |--- class: No\n",
      "|--- PPERSAUT >  5.50\n",
      "|   |--- MOSTYPE <= 8.50\n",
      "|   |   |--- class: No\n",
      "|   |--- MOSTYPE >  8.50\n",
      "|   |   |--- PBRAND <= 2.50\n",
      "|   |   |   |--- class: No\n",
      "|   |   |--- PBRAND >  2.50\n",
      "|   |   |   |--- class: No\n",
      "\n"
     ]
    }
   ],
   "source": [
    "# Identify the feature with the greatest influence\n",
    "most_influential_feature = feature_importances.iloc[0]\n",
    "print(f\"\\nThe feature with the greatest influence on loan status is: {most_influential_feature['Feature']}\")\n",
    "\n",
    "# Visualize the tree structure\n",
    "tree_rules = export_text(tree_model, feature_names=list(X.columns))\n",
    "print(\"\\nDecision Tree Rules:\")\n",
    "print(tree_rules)"
   ]
  },
  {
   "cell_type": "markdown",
   "metadata": {},
   "source": [
    "***(b) Apply bagging, random forests, and gradient boosting classifiers to the Insurance data. Be sure to fit the models on a training set and to evaluate their performance on a test set.***\n",
    "  - Briefly comment on their performance."
   ]
  },
  {
   "cell_type": "code",
   "execution_count": 151,
   "metadata": {},
   "outputs": [
    {
     "name": "stdout",
     "output_type": "stream",
     "text": [
      "Bagging Classifier Performance:\n",
      "Accuracy: 0.9210\n",
      "              precision    recall  f1-score   support\n",
      "\n",
      "          No       0.94      0.98      0.96      1628\n",
      "         Yes       0.23      0.07      0.10       119\n",
      "\n",
      "    accuracy                           0.92      1747\n",
      "   macro avg       0.58      0.53      0.53      1747\n",
      "weighted avg       0.89      0.92      0.90      1747\n",
      "\n",
      "[[1601   27]\n",
      " [ 111    8]]\n",
      "\n",
      "Random Forest Classifier Performance:\n",
      "Accuracy: 0.8403\n",
      "              precision    recall  f1-score   support\n",
      "\n",
      "          No       0.96      0.86      0.91      1628\n",
      "         Yes       0.22      0.52      0.31       119\n",
      "\n",
      "    accuracy                           0.84      1747\n",
      "   macro avg       0.59      0.69      0.61      1747\n",
      "weighted avg       0.91      0.84      0.87      1747\n",
      "\n",
      "[[1406  222]\n",
      " [  57   62]]\n",
      "\n",
      "Gradient Boosting Classifier Performance:\n",
      "Accuracy: 0.9319\n",
      "              precision    recall  f1-score   support\n",
      "\n",
      "          No       0.93      1.00      0.96      1628\n",
      "         Yes       0.50      0.03      0.05       119\n",
      "\n",
      "    accuracy                           0.93      1747\n",
      "   macro avg       0.72      0.51      0.51      1747\n",
      "weighted avg       0.90      0.93      0.90      1747\n",
      "\n",
      "[[1625    3]\n",
      " [ 116    3]]\n"
     ]
    }
   ],
   "source": [
    "from sklearn.ensemble import BaggingClassifier, RandomForestClassifier, GradientBoostingClassifier\n",
    "from sklearn.metrics import accuracy_score, classification_report, confusion_matrix\n",
    "\n",
    "# Split the data into training and testing sets\n",
    "X_train, X_test, y_train, y_test = train_test_split(X, y, test_size=0.3, random_state=42)\n",
    "\n",
    "# Initialize models\n",
    "bagging_model = BaggingClassifier(n_estimators=100, random_state=42)\n",
    "random_forest_model = RandomForestClassifier(n_estimators=100, max_depth=4, class_weight='balanced',random_state=42)\n",
    "gradient_boosting_model = GradientBoostingClassifier(n_estimators=100, learning_rate=0.1, max_depth=4, random_state=42)\n",
    "\n",
    "# Fit models to the training data\n",
    "bagging_model.fit(X_train, y_train)\n",
    "random_forest_model.fit(X_train, y_train)\n",
    "gradient_boosting_model.fit(X_train, y_train)\n",
    "\n",
    "# Evaluate models on the test data\n",
    "bagging_preds = bagging_model.predict(X_test)\n",
    "random_forest_preds = random_forest_model.predict(X_test)\n",
    "gradient_boosting_preds = gradient_boosting_model.predict(X_test)\n",
    "\n",
    "# Compute accuracy scores\n",
    "bagging_acc = accuracy_score(y_test, bagging_preds)\n",
    "random_forest_acc = accuracy_score(y_test, random_forest_preds)\n",
    "gradient_boosting_acc = accuracy_score(y_test, gradient_boosting_preds)\n",
    "\n",
    "# Print results\n",
    "print(\"Bagging Classifier Performance:\")\n",
    "print(f\"Accuracy: {bagging_acc:.4f}\")\n",
    "print(classification_report(y_test, bagging_preds))\n",
    "print(confusion_matrix(y_test, bagging_preds))\n",
    "\n",
    "print(\"\\nRandom Forest Classifier Performance:\")\n",
    "print(f\"Accuracy: {random_forest_acc:.4f}\")\n",
    "print(classification_report(y_test, random_forest_preds))\n",
    "print(confusion_matrix(y_test, random_forest_preds))\n",
    "\n",
    "print(\"\\nGradient Boosting Classifier Performance:\")\n",
    "print(f\"Accuracy: {gradient_boosting_acc:.4f}\")\n",
    "print(classification_report(y_test, gradient_boosting_preds))\n",
    "print(confusion_matrix(y_test, gradient_boosting_preds))\n"
   ]
  },
  {
   "cell_type": "markdown",
   "metadata": {},
   "source": [
    "**Results:**\n",
    "1. **Bagging Classifier:**\n",
    "  - *Overall Accuracy:* `92.1%`, primarily driven by excellent performance on the majority class (No).\n",
    "    - *Performance on No:* Precision: `94%`, Recall: `98%` - highly effective at correctly identifying No.\n",
    "    - *Performance on Yes:* Precision: `23%`, Recall: `7%` - struggles to identify the minority class (Yes), with frequent false negatives and false positives.\n",
    "  - *Conclusion:* Bagging struggles with class imbalance, as it mostly predicts the majority class.\n",
    "2. **Random Forest Classifier:**\n",
    "  - *Overall Accuracy:* `84.03%`, slightly lower than Bagging.\n",
    "    - *Performance on No:* Precision: `96%`, Recall: `86%` - slightly less effective at identifying No compared to Bagging.\n",
    "    - *Performance on Yes:* Precision: `22%`, Recall: `52%`- better than Bagging in identifying Yes, with improved recall but still low precision.\n",
    "  - *Conclusion:* Random Forest balances prediction for both classes better than Bagging but still struggles with precision for Yes.\n",
    "3. **Gradient Boosting Classifier:**\n",
    "  - *Overall Accuracy:* `93.19%`, the highest among the three models.\n",
    "    - *Performance on No:* Precision: `93%`, Recall: `100%` - perfectly identifies No cases.\n",
    "    - *Performance on Yes:* Precision: `50%`, Recall: `3%` - while precision is higher, recall is very poor, leading to frequent false negatives.\n",
    "  - *Conclusion:* Gradient Boosting overfits to the majority class, leading to poor recall for the minority class (Yes)."
   ]
  },
  {
   "cell_type": "markdown",
   "metadata": {},
   "source": [
    "**Question 2: Using the same data set as in Question 1 (the insurance.csv) answer the following questions.**\n",
    "\n",
    "***(a) Create a training set containing 70% of the data and 30% test data.***"
   ]
  },
  {
   "cell_type": "code",
   "execution_count": 152,
   "metadata": {},
   "outputs": [
    {
     "name": "stdout",
     "output_type": "stream",
     "text": [
      "(5822, 86)\n",
      "Training set size: 4075 samples\n",
      "Test set size: 1747 samples\n"
     ]
    }
   ],
   "source": [
    "# Split the data into training and testing sets\n",
    "X_train, X_test, y_train, y_test = train_test_split(X, y, test_size=0.3, random_state=42)\n",
    "print(insurance_data.shape)\n",
    "print(f\"Training set size: {X_train.shape[0]} samples\")\n",
    "print(f\"Test set size: {X_test.shape[0]} samples\")"
   ]
  },
  {
   "cell_type": "markdown",
   "metadata": {},
   "source": [
    "***(b) Fit a support vector machine classifier (use a linear kernel function and choose a suitable value of C).***\n",
    "- What is the number of support vectors?        "
   ]
  },
  {
   "cell_type": "code",
   "execution_count": 153,
   "metadata": {},
   "outputs": [
    {
     "name": "stdout",
     "output_type": "stream",
     "text": [
      "Number of support vectors for each class: [1408  229]\n",
      "Total number of support vectors: 1637\n"
     ]
    }
   ],
   "source": [
    "from sklearn.svm import SVC\n",
    "\n",
    "# Initialize the SVM classifier with a linear kernel and C=1.0 and fit model; training data\n",
    "svm_model = SVC(kernel='linear', C=1.0, random_state=42)\n",
    "svm_model.fit(X_train, y_train)\n",
    "\n",
    "# Retrieve and print the number of support vectors for each class\n",
    "num_support_vectors = svm_model.n_support_\n",
    "print(f\"Number of support vectors for each class: {num_support_vectors}\")\n",
    "print(f\"Total number of support vectors: {num_support_vectors.sum()}\")"
   ]
  },
  {
   "cell_type": "markdown",
   "metadata": {},
   "source": [
    "***(c) Compute the training and test error rates for the kernel SVM in (ii).***"
   ]
  },
  {
   "cell_type": "code",
   "execution_count": 154,
   "metadata": {},
   "outputs": [
    {
     "name": "stdout",
     "output_type": "stream",
     "text": [
      "Training Error Rate: 0.0562\n",
      "Test Error Rate: 0.0681\n"
     ]
    }
   ],
   "source": [
    "from sklearn.metrics import accuracy_score\n",
    "\n",
    "# Compute predictions\n",
    "y_train_pred = svm_model.predict(X_train)\n",
    "y_test_pred = svm_model.predict(X_test)\n",
    "\n",
    "# Calculate the training and test error rates and print results\n",
    "train_error_rate = 1 - accuracy_score(y_train, y_train_pred)\n",
    "test_error_rate = 1 - accuracy_score(y_test, y_test_pred)\n",
    "\n",
    "print(f\"Training Error Rate: {train_error_rate:.4f}\")\n",
    "print(f\"Test Error Rate: {test_error_rate:.4f}\")"
   ]
  },
  {
   "cell_type": "markdown",
   "metadata": {},
   "source": [
    "***(d) Use GridSearchCV to select an optimal cost (C). Consider values in the range 0.01 to 10 in steps of 2.***"
   ]
  },
  {
   "cell_type": "code",
   "execution_count": 155,
   "metadata": {},
   "outputs": [
    {
     "name": "stdout",
     "output_type": "stream",
     "text": [
      "Fitting 5 folds for each of 7 candidates, totalling 35 fits\n",
      "Optimal C: 0.01\n",
      "Cross-validated Accuracy with Optimal C: 0.9438\n"
     ]
    }
   ],
   "source": [
    "from sklearn.model_selection import GridSearchCV\n",
    "\n",
    "# Define the parameter grid for C values\n",
    "param_grid = {'C': [0.01, 0.1, 1, 3, 5, 7, 10]}\n",
    "\n",
    "# Initialize the SVM classifier with a linear kernel\n",
    "svm = SVC(kernel='linear', random_state=42)\n",
    "\n",
    "# Set up GridSearchCV\n",
    "grid_search = GridSearchCV(\n",
    "    estimator=svm,\n",
    "    param_grid=param_grid,\n",
    "    scoring='accuracy',\n",
    "    cv=5,  # 5-fold cross-validation\n",
    "    verbose=1\n",
    ")\n",
    "\n",
    "# Fit GridSearchCV on the training data\n",
    "grid_search.fit(X_train, y_train)\n",
    "\n",
    "# Get the best C value and corresponding accuracy\n",
    "best_c = grid_search.best_params_['C']\n",
    "best_score = grid_search.best_score_\n",
    "\n",
    "print(f\"Optimal C: {best_c}\")\n",
    "print(f\"Cross-validated Accuracy with Optimal C: {best_score:.4f}\")"
   ]
  },
  {
   "cell_type": "markdown",
   "metadata": {},
   "source": [
    "***(e) Compute the training and test error rate using this new value for cost***"
   ]
  },
  {
   "cell_type": "code",
   "execution_count": 156,
   "metadata": {},
   "outputs": [
    {
     "name": "stdout",
     "output_type": "stream",
     "text": [
      "Training Error Rate with Optimal C: 0.0562\n",
      "Test Error Rate with Optimal C: 0.0681\n"
     ]
    }
   ],
   "source": [
    "# Refit the SVM model with the optimal C value\n",
    "optimal_svm_model = SVC(kernel='linear', C=best_c, random_state=42)\n",
    "optimal_svm_model.fit(X_train, y_train)\n",
    "\n",
    "# Predict on training and test data\n",
    "y_train_pred = optimal_svm_model.predict(X_train)\n",
    "y_test_pred = optimal_svm_model.predict(X_test)\n",
    "\n",
    "# Calculate the training and test error rates\n",
    "train_error_rate = 1 - accuracy_score(y_train, y_train_pred)\n",
    "test_error_rate = 1 - accuracy_score(y_test, y_test_pred)\n",
    "\n",
    "# Print the error rates\n",
    "print(f\"Training Error Rate with Optimal C: {train_error_rate:.4f}\")\n",
    "print(f\"Test Error Rate with Optimal C: {test_error_rate:.4f}\")"
   ]
  }
 ],
 "metadata": {
  "kernelspec": {
   "display_name": "Python 3",
   "language": "python",
   "name": "python3"
  },
  "language_info": {
   "codemirror_mode": {
    "name": "ipython",
    "version": 3
   },
   "file_extension": ".py",
   "mimetype": "text/x-python",
   "name": "python",
   "nbconvert_exporter": "python",
   "pygments_lexer": "ipython3",
   "version": "3.12.5"
  }
 },
 "nbformat": 4,
 "nbformat_minor": 2
}
