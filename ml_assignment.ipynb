{
 "cells": [
  {
   "cell_type": "markdown",
   "metadata": {},
   "source": [
    "# Question 10: `Part (a) - (g)`"
   ]
  },
  {
   "cell_type": "markdown",
   "metadata": {},
   "source": [
    "**INITIALIZATION**"
   ]
  },
  {
   "cell_type": "code",
   "execution_count": 1,
   "metadata": {},
   "outputs": [
    {
     "name": "stdout",
     "output_type": "stream",
     "text": [
      "(400, 11)\n"
     ]
    },
    {
     "data": {
      "text/html": [
       "<div>\n",
       "<style scoped>\n",
       "    .dataframe tbody tr th:only-of-type {\n",
       "        vertical-align: middle;\n",
       "    }\n",
       "\n",
       "    .dataframe tbody tr th {\n",
       "        vertical-align: top;\n",
       "    }\n",
       "\n",
       "    .dataframe thead th {\n",
       "        text-align: right;\n",
       "    }\n",
       "</style>\n",
       "<table border=\"1\" class=\"dataframe\">\n",
       "  <thead>\n",
       "    <tr style=\"text-align: right;\">\n",
       "      <th></th>\n",
       "      <th>Sales</th>\n",
       "      <th>CompPrice</th>\n",
       "      <th>Income</th>\n",
       "      <th>Advertising</th>\n",
       "      <th>Population</th>\n",
       "      <th>Price</th>\n",
       "      <th>ShelveLoc</th>\n",
       "      <th>Age</th>\n",
       "      <th>Education</th>\n",
       "      <th>Urban</th>\n",
       "      <th>US</th>\n",
       "    </tr>\n",
       "  </thead>\n",
       "  <tbody>\n",
       "    <tr>\n",
       "      <th>0</th>\n",
       "      <td>9.50</td>\n",
       "      <td>138</td>\n",
       "      <td>73</td>\n",
       "      <td>11</td>\n",
       "      <td>276</td>\n",
       "      <td>120</td>\n",
       "      <td>Bad</td>\n",
       "      <td>42</td>\n",
       "      <td>17</td>\n",
       "      <td>Yes</td>\n",
       "      <td>Yes</td>\n",
       "    </tr>\n",
       "    <tr>\n",
       "      <th>1</th>\n",
       "      <td>11.22</td>\n",
       "      <td>111</td>\n",
       "      <td>48</td>\n",
       "      <td>16</td>\n",
       "      <td>260</td>\n",
       "      <td>83</td>\n",
       "      <td>Good</td>\n",
       "      <td>65</td>\n",
       "      <td>10</td>\n",
       "      <td>Yes</td>\n",
       "      <td>Yes</td>\n",
       "    </tr>\n",
       "    <tr>\n",
       "      <th>2</th>\n",
       "      <td>10.06</td>\n",
       "      <td>113</td>\n",
       "      <td>35</td>\n",
       "      <td>10</td>\n",
       "      <td>269</td>\n",
       "      <td>80</td>\n",
       "      <td>Medium</td>\n",
       "      <td>59</td>\n",
       "      <td>12</td>\n",
       "      <td>Yes</td>\n",
       "      <td>Yes</td>\n",
       "    </tr>\n",
       "  </tbody>\n",
       "</table>\n",
       "</div>"
      ],
      "text/plain": [
       "   Sales  CompPrice  Income  Advertising  Population  Price ShelveLoc  Age  \\\n",
       "0   9.50        138      73           11         276    120       Bad   42   \n",
       "1  11.22        111      48           16         260     83      Good   65   \n",
       "2  10.06        113      35           10         269     80    Medium   59   \n",
       "\n",
       "   Education Urban   US  \n",
       "0         17   Yes  Yes  \n",
       "1         10   Yes  Yes  \n",
       "2         12   Yes  Yes  "
      ]
     },
     "execution_count": 1,
     "metadata": {},
     "output_type": "execute_result"
    }
   ],
   "source": [
    "import pandas as pd\n",
    "import numpy as np\n",
    "import seaborn as sns\n",
    "import matplotlib.pyplot as plt\n",
    "import statsmodels.api as sm \n",
    "\n",
    "carseats_data = pd.read_csv(r\"C:\\Users\\kevin\\OneDrive\\Desktop\\Strathmore\\Classes\\December 2024\\Machine Learning\\Assignments\\Data\\ALL CSV FILES - 2nd Edition\\Carseats.csv\")\n",
    "\n",
    "print(carseats_data.shape)\n",
    "\n",
    "carseats_data.head(3)\n"
   ]
  },
  {
   "cell_type": "markdown",
   "metadata": {},
   "source": [
    "**(a) Fit a multiple regression model to predict Sales using Price, Urban, and US**\n"
   ]
  },
  {
   "cell_type": "code",
   "execution_count": 2,
   "metadata": {},
   "outputs": [
    {
     "data": {
      "text/html": [
       "<table class=\"simpletable\">\n",
       "<caption>OLS Regression Results</caption>\n",
       "<tr>\n",
       "  <th>Dep. Variable:</th>          <td>Sales</td>      <th>  R-squared:         </th> <td>   0.239</td>\n",
       "</tr>\n",
       "<tr>\n",
       "  <th>Model:</th>                   <td>OLS</td>       <th>  Adj. R-squared:    </th> <td>   0.234</td>\n",
       "</tr>\n",
       "<tr>\n",
       "  <th>Method:</th>             <td>Least Squares</td>  <th>  F-statistic:       </th> <td>   41.52</td>\n",
       "</tr>\n",
       "<tr>\n",
       "  <th>Date:</th>             <td>Sat, 07 Dec 2024</td> <th>  Prob (F-statistic):</th> <td>2.39e-23</td>\n",
       "</tr>\n",
       "<tr>\n",
       "  <th>Time:</th>                 <td>20:37:43</td>     <th>  Log-Likelihood:    </th> <td> -927.66</td>\n",
       "</tr>\n",
       "<tr>\n",
       "  <th>No. Observations:</th>      <td>   400</td>      <th>  AIC:               </th> <td>   1863.</td>\n",
       "</tr>\n",
       "<tr>\n",
       "  <th>Df Residuals:</th>          <td>   396</td>      <th>  BIC:               </th> <td>   1879.</td>\n",
       "</tr>\n",
       "<tr>\n",
       "  <th>Df Model:</th>              <td>     3</td>      <th>                     </th>     <td> </td>   \n",
       "</tr>\n",
       "<tr>\n",
       "  <th>Covariance Type:</th>      <td>nonrobust</td>    <th>                     </th>     <td> </td>   \n",
       "</tr>\n",
       "</table>\n",
       "<table class=\"simpletable\">\n",
       "<tr>\n",
       "      <td></td>         <th>coef</th>     <th>std err</th>      <th>t</th>      <th>P>|t|</th>  <th>[0.025</th>    <th>0.975]</th>  \n",
       "</tr>\n",
       "<tr>\n",
       "  <th>const</th>     <td>   13.0435</td> <td>    0.651</td> <td>   20.036</td> <td> 0.000</td> <td>   11.764</td> <td>   14.323</td>\n",
       "</tr>\n",
       "<tr>\n",
       "  <th>Price</th>     <td>   -0.0545</td> <td>    0.005</td> <td>  -10.389</td> <td> 0.000</td> <td>   -0.065</td> <td>   -0.044</td>\n",
       "</tr>\n",
       "<tr>\n",
       "  <th>Urban_Yes</th> <td>   -0.0219</td> <td>    0.272</td> <td>   -0.081</td> <td> 0.936</td> <td>   -0.556</td> <td>    0.512</td>\n",
       "</tr>\n",
       "<tr>\n",
       "  <th>US_Yes</th>    <td>    1.2006</td> <td>    0.259</td> <td>    4.635</td> <td> 0.000</td> <td>    0.691</td> <td>    1.710</td>\n",
       "</tr>\n",
       "</table>\n",
       "<table class=\"simpletable\">\n",
       "<tr>\n",
       "  <th>Omnibus:</th>       <td> 0.676</td> <th>  Durbin-Watson:     </th> <td>   1.912</td>\n",
       "</tr>\n",
       "<tr>\n",
       "  <th>Prob(Omnibus):</th> <td> 0.713</td> <th>  Jarque-Bera (JB):  </th> <td>   0.758</td>\n",
       "</tr>\n",
       "<tr>\n",
       "  <th>Skew:</th>          <td> 0.093</td> <th>  Prob(JB):          </th> <td>   0.684</td>\n",
       "</tr>\n",
       "<tr>\n",
       "  <th>Kurtosis:</th>      <td> 2.897</td> <th>  Cond. No.          </th> <td>    628.</td>\n",
       "</tr>\n",
       "</table><br/><br/>Notes:<br/>[1] Standard Errors assume that the covariance matrix of the errors is correctly specified."
      ],
      "text/latex": [
       "\\begin{center}\n",
       "\\begin{tabular}{lclc}\n",
       "\\toprule\n",
       "\\textbf{Dep. Variable:}    &      Sales       & \\textbf{  R-squared:         } &     0.239   \\\\\n",
       "\\textbf{Model:}            &       OLS        & \\textbf{  Adj. R-squared:    } &     0.234   \\\\\n",
       "\\textbf{Method:}           &  Least Squares   & \\textbf{  F-statistic:       } &     41.52   \\\\\n",
       "\\textbf{Date:}             & Sat, 07 Dec 2024 & \\textbf{  Prob (F-statistic):} &  2.39e-23   \\\\\n",
       "\\textbf{Time:}             &     20:37:43     & \\textbf{  Log-Likelihood:    } &   -927.66   \\\\\n",
       "\\textbf{No. Observations:} &         400      & \\textbf{  AIC:               } &     1863.   \\\\\n",
       "\\textbf{Df Residuals:}     &         396      & \\textbf{  BIC:               } &     1879.   \\\\\n",
       "\\textbf{Df Model:}         &           3      & \\textbf{                     } &             \\\\\n",
       "\\textbf{Covariance Type:}  &    nonrobust     & \\textbf{                     } &             \\\\\n",
       "\\bottomrule\n",
       "\\end{tabular}\n",
       "\\begin{tabular}{lcccccc}\n",
       "                    & \\textbf{coef} & \\textbf{std err} & \\textbf{t} & \\textbf{P$> |$t$|$} & \\textbf{[0.025} & \\textbf{0.975]}  \\\\\n",
       "\\midrule\n",
       "\\textbf{const}      &      13.0435  &        0.651     &    20.036  &         0.000        &       11.764    &       14.323     \\\\\n",
       "\\textbf{Price}      &      -0.0545  &        0.005     &   -10.389  &         0.000        &       -0.065    &       -0.044     \\\\\n",
       "\\textbf{Urban\\_Yes} &      -0.0219  &        0.272     &    -0.081  &         0.936        &       -0.556    &        0.512     \\\\\n",
       "\\textbf{US\\_Yes}    &       1.2006  &        0.259     &     4.635  &         0.000        &        0.691    &        1.710     \\\\\n",
       "\\bottomrule\n",
       "\\end{tabular}\n",
       "\\begin{tabular}{lclc}\n",
       "\\textbf{Omnibus:}       &  0.676 & \\textbf{  Durbin-Watson:     } &    1.912  \\\\\n",
       "\\textbf{Prob(Omnibus):} &  0.713 & \\textbf{  Jarque-Bera (JB):  } &    0.758  \\\\\n",
       "\\textbf{Skew:}          &  0.093 & \\textbf{  Prob(JB):          } &    0.684  \\\\\n",
       "\\textbf{Kurtosis:}      &  2.897 & \\textbf{  Cond. No.          } &     628.  \\\\\n",
       "\\bottomrule\n",
       "\\end{tabular}\n",
       "%\\caption{OLS Regression Results}\n",
       "\\end{center}\n",
       "\n",
       "Notes: \\newline\n",
       " [1] Standard Errors assume that the covariance matrix of the errors is correctly specified."
      ],
      "text/plain": [
       "<class 'statsmodels.iolib.summary.Summary'>\n",
       "\"\"\"\n",
       "                            OLS Regression Results                            \n",
       "==============================================================================\n",
       "Dep. Variable:                  Sales   R-squared:                       0.239\n",
       "Model:                            OLS   Adj. R-squared:                  0.234\n",
       "Method:                 Least Squares   F-statistic:                     41.52\n",
       "Date:                Sat, 07 Dec 2024   Prob (F-statistic):           2.39e-23\n",
       "Time:                        20:37:43   Log-Likelihood:                -927.66\n",
       "No. Observations:                 400   AIC:                             1863.\n",
       "Df Residuals:                     396   BIC:                             1879.\n",
       "Df Model:                           3                                         \n",
       "Covariance Type:            nonrobust                                         \n",
       "==============================================================================\n",
       "                 coef    std err          t      P>|t|      [0.025      0.975]\n",
       "------------------------------------------------------------------------------\n",
       "const         13.0435      0.651     20.036      0.000      11.764      14.323\n",
       "Price         -0.0545      0.005    -10.389      0.000      -0.065      -0.044\n",
       "Urban_Yes     -0.0219      0.272     -0.081      0.936      -0.556       0.512\n",
       "US_Yes         1.2006      0.259      4.635      0.000       0.691       1.710\n",
       "==============================================================================\n",
       "Omnibus:                        0.676   Durbin-Watson:                   1.912\n",
       "Prob(Omnibus):                  0.713   Jarque-Bera (JB):                0.758\n",
       "Skew:                           0.093   Prob(JB):                        0.684\n",
       "Kurtosis:                       2.897   Cond. No.                         628.\n",
       "==============================================================================\n",
       "\n",
       "Notes:\n",
       "[1] Standard Errors assume that the covariance matrix of the errors is correctly specified.\n",
       "\"\"\""
      ]
     },
     "execution_count": 2,
     "metadata": {},
     "output_type": "execute_result"
    }
   ],
   "source": [
    "# Set X and y\n",
    "X = carseats_data[['Price', 'Urban', 'US']]\n",
    "\n",
    "# Given that `urban` and `US` are categorical data, we transform that to dummy variables\n",
    "X = pd.get_dummies(X, drop_first=True)\n",
    "X = X.astype(int)\n",
    "X = sm.add_constant(X)\n",
    "\n",
    "y = carseats_data['Sales']\n",
    "\n",
    "# Fit model and show summary\n",
    "model = sm.OLS(y, X).fit()\n",
    "model.summary()"
   ]
  },
  {
   "cell_type": "markdown",
   "metadata": {},
   "source": [
    "**(b) Provide an interpretation of each coefficient in the model. Be careful some of the variables in the model are qualitative!**\n",
    "\n",
    "   \n",
    "***Intercept:*** *`13.0435`*\n",
    "- Represents the expected average sales when all predictors (Price, Urban_Yes, US_Yes) are zero. Since Price, Urban, and US cannot realistically be zero in this context, the intercept mainly serves as a baseline value for predictions.\n",
    "\n",
    "\n",
    "***Price*** *`-0.0545`*\n",
    "- *Interpretation:* For each unit increase in Price, the average sales decrease by `0.0545` units, holding all other variables constant.\n",
    "- *Significance:* The p-value for Price is `0.000` which is very small, indicating that price is *statistically significant* in explaining variations in sales.\n",
    "\n",
    "***Urban_Yes:*** *`-0.0219`*\n",
    "- *Interpretation:* If the store is located in an urban area (Urban_Yes = 1), the average sales decrease by `0.0219` units compared to stores in non-urban areas (Urban_Yes = 0), holding all other variables constant.\n",
    "- *Significance:* The p-value for Urban_Yes is `0.936`, which is much larger than the typical significance level of 0.05. This indicates that Urban_Yes is *not statistically significant* in predicting sales.\n",
    "\n",
    "***US_Yes:*** *`1.2006`*\n",
    "- *Interpretation:* If the store is located in the US (US_Yes = 1), the average sales increase by `1.2006` units compared to stores located outside the US (US_Yes = 0), holding all other variables constant.\n",
    "- *Significance:* The p-value for US_Yes is `0.000`, indicating that this variable is *highly statistically significant* in explaining variations in sales.\n",
    "\n",
    "***Overall Model Fit:***\n",
    "- The **`R-squared`** value of `0.239` indicates that `23.9%` of the variability in sales is explained by the model. While this suggests that the model has limited explanatory power, the significant predictors (Price and US_Yes) provide meaningful insights."
   ]
  },
  {
   "cell_type": "markdown",
   "metadata": {},
   "source": [
    "**(c) Write out the model in equation form, being careful to handle the qualitative variables properly.**\n",
    "\n",
    "-   *Sales = 13.0435 - 0.545(Price) - 0.0219(Urban_Yes) + 1.2006(US_Yes)*\n"
   ]
  },
  {
   "cell_type": "markdown",
   "metadata": {},
   "source": [
    "**(d) For which of the predictors can you reject the null hypothesis H0 : #j = 0?**\n",
    "- Given the p-value we reject the null hypothesis for *Price* and *Urban* as they are very small"
   ]
  },
  {
   "cell_type": "markdown",
   "metadata": {},
   "source": [
    "**(e) On the basis of your response to the previous question, fit a smaller model that only uses the predictors for which there is**"
   ]
  },
  {
   "cell_type": "code",
   "execution_count": 3,
   "metadata": {},
   "outputs": [
    {
     "name": "stdout",
     "output_type": "stream",
     "text": [
      "                            OLS Regression Results                            \n",
      "==============================================================================\n",
      "Dep. Variable:                  Sales   R-squared:                       0.239\n",
      "Model:                            OLS   Adj. R-squared:                  0.235\n",
      "Method:                 Least Squares   F-statistic:                     62.43\n",
      "Date:                Sat, 07 Dec 2024   Prob (F-statistic):           2.66e-24\n",
      "Time:                        20:37:43   Log-Likelihood:                -927.66\n",
      "No. Observations:                 400   AIC:                             1861.\n",
      "Df Residuals:                     397   BIC:                             1873.\n",
      "Df Model:                           2                                         \n",
      "Covariance Type:            nonrobust                                         \n",
      "==============================================================================\n",
      "                 coef    std err          t      P>|t|      [0.025      0.975]\n",
      "------------------------------------------------------------------------------\n",
      "Intercept     13.0308      0.631     20.652      0.000      11.790      14.271\n",
      "US[T.Yes]      1.1996      0.258      4.641      0.000       0.692       1.708\n",
      "Price         -0.0545      0.005    -10.416      0.000      -0.065      -0.044\n",
      "==============================================================================\n",
      "Omnibus:                        0.666   Durbin-Watson:                   1.912\n",
      "Prob(Omnibus):                  0.717   Jarque-Bera (JB):                0.749\n",
      "Skew:                           0.092   Prob(JB):                        0.688\n",
      "Kurtosis:                       2.895   Cond. No.                         607.\n",
      "==============================================================================\n",
      "\n",
      "Notes:\n",
      "[1] Standard Errors assume that the covariance matrix of the errors is correctly specified.\n"
     ]
    }
   ],
   "source": [
    "# Using statsmodel formula for this part\n",
    "import statsmodels.formula.api as smf\n",
    "model1 = smf.ols(formula = 'Sales ~ Price + US', data=carseats_data)\n",
    "res_model = model1.fit()\n",
    "print(res_model.summary())"
   ]
  },
  {
   "cell_type": "markdown",
   "metadata": {},
   "source": [
    "**(f) How well do the models in (a) and (e) fit the data?**\n",
    "- Looking at the value of R-Squared both (a) and (e) have the same value `0.239`, we can conclude that neither model fit the data very well. However, (e) is a better model compared to (a) as it uses less variables for the same level of R-Squared "
   ]
  },
  {
   "cell_type": "markdown",
   "metadata": {},
   "source": [
    "**(g) Using the model from (e), obtain 95 % confidence intervals for the coefficient(s).**\n"
   ]
  },
  {
   "cell_type": "code",
   "execution_count": 5,
   "metadata": {},
   "outputs": [
    {
     "name": "stdout",
     "output_type": "stream",
     "text": [
      "95% Confidence Intervals:\n",
      "Intercept: [11.7688, 14.2928]\n",
      "US_Yes: [0.6836, 1.7156]\n",
      "Price: [-0.0645, -0.0445]\n"
     ]
    }
   ],
   "source": [
    "#Coefficients and Standard Errors\n",
    "coeff_stder = {\n",
    "    'Intercept': (13.0308, 0.631),\n",
    "    'US_Yes': (1.1996, 0.258),\n",
    "    'Price': (-0.0545, 0.005),\n",
    "}\n",
    "\n",
    "# Calculate and format confidence intervals\n",
    "def calc_ci(coef, stderr, confidence=0.95):\n",
    "    z_score = 2\n",
    "    lower = coef - z_score * stderr\n",
    "    upper = coef + z_score * stderr\n",
    "    return f\"[{lower:.4f}, {upper:.4f}]\"\n",
    "\n",
    "# Print output\n",
    "print(\"95% Confidence Intervals:\")\n",
    "for term, (coef, stderr) in coeff_stder.items():\n",
    "    interval = calc_ci(coef, stderr)\n",
    "    print(f\"{term}: {interval}\")"
   ]
  }
 ],
 "metadata": {
  "kernelspec": {
   "display_name": "Python 3",
   "language": "python",
   "name": "python3"
  },
  "language_info": {
   "codemirror_mode": {
    "name": "ipython",
    "version": 3
   },
   "file_extension": ".py",
   "mimetype": "text/x-python",
   "name": "python",
   "nbconvert_exporter": "python",
   "pygments_lexer": "ipython3",
   "version": "3.12.5"
  }
 },
 "nbformat": 4,
 "nbformat_minor": 2
}
